{
 "cells": [
  {
   "cell_type": "markdown",
   "id": "82eb5780",
   "metadata": {},
   "source": [
    "# 데이터 다운 및 초기 탐색"
   ]
  },
  {
   "cell_type": "code",
   "execution_count": 6,
   "id": "80651464",
   "metadata": {},
   "outputs": [
    {
     "name": "stdout",
     "output_type": "stream",
     "text": [
      "총 4526개의 JSON 어노테이션 파일\n",
      "총 1489개의 학습 이미지 파일\n",
      "총 843개의 테스트 이미지 파일\n"
     ]
    }
   ],
   "source": [
    "import os\n",
    "import json\n",
    "import glob\n",
    "from collections import defaultdict\n",
    "from tqdm import tqdm  # 진행 상황 표시\n",
    "\n",
    "# Windows에서는 경로 앞에 r을 붙여야 백슬래시 문제를 피할 수 있다\n",
    "base_dir = r\"C:\\Users\\daboi\\OneDrive\\Desktop\\ai05-level1-project\"\n",
    "\n",
    "train_img_dir = os.path.join(base_dir, \"train_images\")\n",
    "test_img_dir = os.path.join(base_dir, \"test_images\")\n",
    "train_ann_dir = os.path.join(base_dir, \"train_annotations\")\n",
    "\n",
    "# train_annotations 폴더 및 모든 하위 폴더에서 .json 파일 검색\n",
    "json_files = glob.glob(os.path.join(train_ann_dir, \"**\", \"*.json\"), recursive = True)\n",
    "\n",
    "print(f\"총 {len(json_files)}개의 JSON 어노테이션 파일\")\n",
    "print(f\"총 {len(os.listdir(train_img_dir))}개의 학습 이미지 파일\")\n",
    "print(f\"총 {len(os.listdir(test_img_dir))}개의 테스트 이미지 파일\")"
   ]
  },
  {
   "cell_type": "markdown",
   "id": "b18bc2f1",
   "metadata": {},
   "source": [
    "- 4526개의 어노테이션이 있다 학습 이미지 파일은 1489개이다 이미지 하나에 여러 알약이 있다는 뜻이겠다(이미지를 직접 해봐도 대부분 3 - 4개씩 있었다)\n",
    "- 테스트 이미지는 원래 어노테이션이 없다"
   ]
  },
  {
   "cell_type": "code",
   "execution_count": null,
   "id": "874f37bd",
   "metadata": {},
   "outputs": [
    {
     "name": "stderr",
     "output_type": "stream",
     "text": [
      "어노테이션 통합 중: 100%|██████████| 4526/4526 [00:00<00:00, 10857.55it/s]"
     ]
    },
    {
     "name": "stdout",
     "output_type": "stream",
     "text": [
      "------------------------------\n",
      "통합 완료 총 1489개의 이미지 데이터를 처리\n",
      "총 73개의 고유 클래스(알약 종류)를 발견\n"
     ]
    },
    {
     "name": "stderr",
     "output_type": "stream",
     "text": [
      "\n"
     ]
    }
   ],
   "source": [
    "# JSON 파일들을 읽어 하나의 마스터 데이터로 통합\n",
    "master_data = defaultdict(lambda: {'image_path': '', 'annotations': []})\n",
    "class_to_id = {}\n",
    "current_id = 0\n",
    "\n",
    "for json_path in tqdm(json_files, desc=\"어노테이션 통합 중\"):\n",
    "    try:\n",
    "        with open(json_path, 'r', encoding='utf-8') as f:\n",
    "            data = json.load(f)\n",
    "\n",
    "        # JSON 구조 확인 (images, annotations)\n",
    "        img_info = data['images'][0]\n",
    "        img_filename = img_info['file_name']\n",
    "\n",
    "        # 이미지 경로 설정\n",
    "        if not master_data[img_filename]['image_path']:\n",
    "            image_path = os.path.join(train_img_dir, img_filename)\n",
    "            if not os.path.isfile(image_path):\n",
    "                print(f\"경고: 이미지 파일이 존재하지 않습니다 - {image_path}\")\n",
    "            master_data[img_filename]['image_path'] = image_path\n",
    "\n",
    "        # 여러 개의 어노테이션 처리\n",
    "        for ann in data['annotations']:\n",
    "            bbox = ann['bbox']  # [x_min, y_min, w, h] 형식\n",
    "\n",
    "            # 클래스명 위치 확인\n",
    "            if 'dl_name' in ann:\n",
    "                class_name = ann['dl_name']\n",
    "            else:\n",
    "                class_name = img_info.get('dl_name', 'Unknown')\n",
    "\n",
    "            # 새로운 클래스면 ID 부여\n",
    "            if class_name not in class_to_id:\n",
    "                class_to_id[class_name] = current_id\n",
    "                current_id += 1\n",
    "\n",
    "            class_id = class_to_id[class_name]\n",
    "\n",
    "            # 어노테이션 추가\n",
    "            master_data[img_filename]['annotations'].append({\n",
    "                'class_id': class_id,\n",
    "                'bbox': bbox\n",
    "            })\n",
    "\n",
    "    except Exception as e:\n",
    "        print(f\"Error processing file {json_path}: {e}\")\n",
    "\n",
    "# 결과 저장\n",
    "with open(os.path.join(base_dir, \"train_master_annotations.json\"), \"w\", encoding = 'utf-8') as f:\n",
    "    json.dump(master_data, f, ensure_ascii = False, indent = 4)\n",
    "\n",
    "with open(os.path.join(base_dir, \"class_to_id.json\"), \"w\", encoding = 'utf-8') as f:\n",
    "    json.dump(class_to_id, f, ensure_ascii = False, indent = 4)\n",
    "\n",
    "print(\"-\" * 30)\n",
    "print(f\"통합 완료 총 {len(master_data)}개의 이미지 데이터를 처리\")\n",
    "print(f\"총 {len(class_to_id)}개의 고유 클래스(알약 종류)를 발견\")"
   ]
  },
  {
   "cell_type": "markdown",
   "id": "5e9d52c8",
   "metadata": {},
   "source": [
    "# 데이터 분석"
   ]
  },
  {
   "cell_type": "code",
   "execution_count": 8,
   "id": "52652e4d",
   "metadata": {},
   "outputs": [
    {
     "name": "stdout",
     "output_type": "stream",
     "text": [
      "['K-003483-022347-027777-036637_0_2_0_2_70_000_200.json', 'K-003483-022347-027777-036637_0_2_0_2_90_000_200.json']\n"
     ]
    }
   ],
   "source": [
    "folder = r\"C:\\Users\\daboi\\OneDrive\\Desktop\\ai05-level1-project\\train_annotations\\K-003483-022347-027777-036637_json\\K-003483\"\n",
    "print(os.listdir(folder))"
   ]
  },
  {
   "cell_type": "markdown",
   "id": "9532f572",
   "metadata": {},
   "source": [
    "JSON 파일은 COCO 데이터셋 형식이다"
   ]
  },
  {
   "cell_type": "code",
   "execution_count": null,
   "id": "88eb12fd",
   "metadata": {},
   "outputs": [
    {
     "name": "stdout",
     "output_type": "stream",
     "text": [
      "최상위 키: dict_keys(['images', 'type', 'annotations', 'categories'])\n",
      "\n",
      "images 예시: {'file_name': 'K-003483-022347-027777-036637_0_2_0_2_70_000_200.png', 'width': 976, 'height': 1280, 'imgfile': 'K-003483-022347-027777-036637_0_2_0_2_70_000_200.png', 'drug_N': 'K-003483', 'drug_S': '정상알약', 'back_color': '연회색 배경', 'drug_dir': '앞면', 'light_color': '주백색', 'camera_la': 70, 'camera_lo': 0, 'size': 200, 'dl_idx': '3482', 'dl_mapping_code': 'K-003483', 'dl_name': '기넥신에프정(은행엽엑스)(수출용)', 'dl_name_en': 'Ginexin-F Tab.', 'img_key': 'http://connectdi.com/design/img/drug/148609543321800170.jpg', 'dl_material': '은행엽건조엑스', 'dl_material_en': 'Ginkgo Leaf Ext.', 'dl_custom_shape': '정제, 저작정', 'dl_company': '에스케이케미칼(주)', 'dl_company_en': 'Sk Chemicals', 'di_company_mf': '', 'di_company_mf_en': '', 'item_seq': 199102014, 'di_item_permit_date': '19910906', 'di_class_no': '[02190]기타의 순환계용약', 'di_etc_otc_code': '일반의약품', 'di_edi_code': '644700130,A18901361', 'chart': '진녹색의 타원형 필름 코팅정', 'drug_shape': '장방형', 'thick': 3.9, 'leng_long': 11.1, 'leng_short': 6.1, 'print_front': 'SK', 'print_back': 'G40', 'color_class1': '초록', 'color_class2': '', 'line_front': '', 'line_back': '', 'img_regist_ts': '20041222', 'form_code_name': '필름코팅정', 'mark_code_front_anal': '', 'mark_code_back_anal': '', 'mark_code_front_img': '', 'mark_code_back_img': '', 'mark_code_front': '', 'mark_code_back': '', 'change_date': '20200723', 'id': 1072}\n",
      "\n",
      "annotations 예시: {'area': 58565, 'iscrowd': 0, 'bbox': [174, 274, 265, 221], 'category_id': 3482, 'ignore': 0, 'segmentation': [], 'id': 4078, 'image_id': 1072}\n"
     ]
    }
   ],
   "source": [
    "sample_json = r\"C:\\Users\\daboi\\OneDrive\\Desktop\\ai05-level1-project\\train_annotations\\K-003483-022347-027777-036637_json\\K-003483\\K-003483-022347-027777-036637_0_2_0_2_70_000_200.json\"\n",
    "\n",
    "with open(sample_json, \"r\", encoding = \"utf-8\") as f:\n",
    "    data = json.load(f)\n",
    "\n",
    "# 샘플 구조 확인\n",
    "print(\"최상위 키:\", data.keys())\n",
    "print(\"\\nimages 예시:\", data[\"images\"][0])\n",
    "print(\"\\nannotations 예시:\", data[\"annotations\"][0])"
   ]
  },
  {
   "cell_type": "markdown",
   "id": "d40069bd",
   "metadata": {},
   "source": [
    "## jason 파일 구조\n",
    "    ### JSON 데이터 구조 정리\n",
    "\n",
    "```yaml\n",
    "data (dict)\n",
    "│\n",
    "├── \"images\" (list)\n",
    "│     └── [0] (dict)\n",
    "│          ├── file_name: 이미지 파일명 (예: \"K-001900-010224-016551-031705.png\")\n",
    "│          ├── width: 이미지 너비 (픽셀 단위)\n",
    "│          ├── height: 이미지 높이 (픽셀 단위)\n",
    "│          ├── imgfile: 이미지 파일명 (중복 정보)\n",
    "│          ├── drug_N: 약물 코드\n",
    "│          ├── drug_S: 약물 상태 설명 (예: \"정상알약\")\n",
    "│          ├── back_color: 배경색\n",
    "│          ├── drug_dir: 앞/뒷면 여부\n",
    "│          ├── light_color: 촬영 조명 색\n",
    "│          ├── camera_la: 카메라 각도 (위치/각도 관련)\n",
    "│          ├── camera_lo: 카메라 방향\n",
    "│          ├── size: 이미지 크기\n",
    "│          ├── dl_idx: 데이터셋 내부 약물 ID\n",
    "│          ├── dl_mapping_code: 약물 코드 (중복)\n",
    "│          ├── dl_name: 약 이름 (국문)\n",
    "│          ├── dl_name_en: 약 이름 (영문)\n",
    "│          ├── img_key: 약 이미지 URL\n",
    "│          ├── dl_material: 성분명 (국문)\n",
    "│          ├── dl_material_en: 성분명 (영문)\n",
    "│          ├── dl_custom_shape: 제형 정보 (정제, 저작정 등)\n",
    "│          ├── dl_company: 제조사 (국문)\n",
    "│          ├── dl_company_en: 제조사 (영문)\n",
    "│          ├── item_seq: 품목일련번호\n",
    "│          ├── di_item_permit_date: 허가일자\n",
    "│          ├── di_class_no: 의약품 분류 번호\n",
    "│          ├── di_etc_otc_code: 전문/일반 여부\n",
    "│          ├── chart: 약 설명\n",
    "│          ├── drug_shape: 알약 모양\n",
    "│          ├── thick: 두께\n",
    "│          ├── leng_long: 장축 길이\n",
    "│          ├── leng_short: 단축 길이\n",
    "│          ├── print_front: 전면 인쇄 문자\n",
    "│          ├── print_back: 후면 인쇄 문자\n",
    "│          ├── color_class1: 주요 색상\n",
    "│          ├── img_regist_ts: 이미지 등록일\n",
    "│          ├── form_code_name: 제형 코드명\n",
    "│          ├── change_date: 데이터 갱신일\n",
    "│          └── id: 이미지 고유 ID\n",
    "│\n",
    "├── \"type\" (str)\n",
    "│     └── 어노테이션 타입 (예: \"instances\")\n",
    "│\n",
    "├── \"annotations\" (list)\n",
    "│     └── [0] (dict)\n",
    "│          ├── area: 바운딩 박스 영역 크기\n",
    "│          ├── iscrowd: 군집 여부 (0=단일 객체)\n",
    "│          ├── bbox: [x, y, w, h] (바운딩 박스 좌표)\n",
    "│          ├── category_id: 카테고리 ID\n",
    "│          ├── ignore: 무시 여부\n",
    "│          ├── id: 어노테이션 ID\n",
    "│          └── image_id: 이미지 ID\n",
    "│\n",
    "└── \"categories\" (list)\n",
    "      └── [0] (dict)\n",
    "           ├── supercategory: 상위 카테고리 (pill)\n",
    "           ├── id: 카테고리 ID\n",
    "           └── name: 카테고리 이름 (국문 약명)\n",
    "```"
   ]
  },
  {
   "cell_type": "code",
   "execution_count": 11,
   "id": "b60a702e",
   "metadata": {},
   "outputs": [
    {
     "name": "stderr",
     "output_type": "stream",
     "text": [
      "매칭 검증 중: 100%|██████████| 4526/4526 [00:00<00:00, 12767.56it/s]"
     ]
    },
    {
     "name": "stdout",
     "output_type": "stream",
     "text": [
      "총 1489개의 이미지가 어노테이션과 매칭\n",
      "어노테이션이 없는 이미지 수: 0\n",
      "이미지당 평균 어노테이션 개수: 3.04\n",
      "K-001900-010224-016551-031705_0_2_0_2_70_000_200.png : 3 개 어노테이션\n",
      "K-001900-010224-016551-031705_0_2_0_2_75_000_200.png : 2 개 어노테이션\n",
      "K-001900-010224-016551-031705_0_2_0_2_90_000_200.png : 3 개 어노테이션\n",
      "K-001900-010224-016551-033009_0_2_0_2_70_000_200.png : 2 개 어노테이션\n",
      "K-001900-010224-016551-033009_0_2_0_2_75_000_200.png : 2 개 어노테이션\n",
      "K-001900-010224-016551-033009_0_2_0_2_90_000_200.png : 3 개 어노테이션\n",
      "K-001900-016548-018110-021026_0_2_0_2_70_000_200.png : 4 개 어노테이션\n",
      "K-001900-016548-018110-021026_0_2_0_2_75_000_200.png : 4 개 어노테이션\n",
      "K-001900-016548-018110-021026_0_2_0_2_90_000_200.png : 2 개 어노테이션\n",
      "K-001900-016548-018110-027926_0_2_0_2_70_000_200.png : 3 개 어노테이션\n"
     ]
    },
    {
     "name": "stderr",
     "output_type": "stream",
     "text": [
      "\n"
     ]
    }
   ],
   "source": [
    "# 모든 JSON 파일 수집\n",
    "json_files = glob.glob(os.path.join(train_ann_dir, \"**\", \"*.json\"), recursive=True)\n",
    "\n",
    "# 이미지별 어노테이션 개수 카운트\n",
    "img_to_ann_count = defaultdict(int)\n",
    "\n",
    "for json_path in tqdm(json_files, desc=\"매칭 검증 중\"):\n",
    "    try:\n",
    "        with open(json_path, \"r\", encoding=\"utf-8\") as f:\n",
    "            data = json.load(f)\n",
    "\n",
    "        img_info = data[\"images\"][0]\n",
    "        img_filename = img_info[\"file_name\"]\n",
    "\n",
    "        img_to_ann_count[img_filename] += len(data[\"annotations\"])\n",
    "\n",
    "    except Exception as e:\n",
    "        print(f\"Error in {json_path}: {e}\")\n",
    "\n",
    "print(f\"총 {len(img_to_ann_count)}개의 이미지가 어노테이션과 매칭\")\n",
    "\n",
    "# 어노테이션 없는 이미지 찾기\n",
    "train_imgs = set(os.listdir(train_img_dir))\n",
    "ann_imgs = set(img_to_ann_count.keys())\n",
    "\n",
    "no_ann_imgs = train_imgs - ann_imgs\n",
    "print(f\"어노테이션이 없는 이미지 수: {len(no_ann_imgs)}\")\n",
    "\n",
    "# 이미지당 평균 어노테이션 개수\n",
    "avg_ann = sum(img_to_ann_count.values()) / len(img_to_ann_count)\n",
    "print(f\"이미지당 평균 어노테이션 개수: {avg_ann:.2f}\")\n",
    "\n",
    "# 샘플 출력\n",
    "for img, count in list(img_to_ann_count.items())[:10]:\n",
    "    print(img, \":\", count, \"개 어노테이션\")"
   ]
  },
  {
   "cell_type": "code",
   "execution_count": null,
   "id": "7583c26e",
   "metadata": {},
   "outputs": [],
   "source": []
  }
 ],
 "metadata": {
  "kernelspec": {
   "display_name": "codeit_project_env",
   "language": "python",
   "name": "python3"
  },
  "language_info": {
   "codemirror_mode": {
    "name": "ipython",
    "version": 3
   },
   "file_extension": ".py",
   "mimetype": "text/x-python",
   "name": "python",
   "nbconvert_exporter": "python",
   "pygments_lexer": "ipython3",
   "version": "3.11.14"
  }
 },
 "nbformat": 4,
 "nbformat_minor": 5
}
