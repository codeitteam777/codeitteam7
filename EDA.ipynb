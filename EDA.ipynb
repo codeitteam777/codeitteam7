{
 "nbformat": 4,
 "nbformat_minor": 0,
 "metadata": {
  "colab": {
   "provenance": [],
   "machine_shape": "hm",
   "gpuType": "A100"
  },
  "kernelspec": {
   "name": "python3",
   "display_name": "Python 3 (ipykernel)",
   "language": "python"
  },
  "language_info": {
   "name": "python"
  },
  "accelerator": "GPU"
 },
 "cells": [
  {
   "cell_type": "code",
   "source": [
    "@title 구글드라이브 연동\n",
    "\n",
    "colab 환경시 사용\n",
    "from google.colab import drive\n",
    "drive.mount('/content/drive')\n",
    "\n",
    "import json\n",
    "import os\n",
    "from pprint import pprint\n",
    "\n",
    "base_data_dir = '/content/drive/MyDrive/ai05/ai05-level1-project'\n",
    "train_annotations_dir = os.path.join(base_data_dir, 'train_annotations')\n",
    "\n",
    "json_file_paths = []\n",
    "\n",
    "for root, dirs, files in os.walk(train_annotations_dir):\n",
    "    for file_name in files:\n",
    "        if file_name.endswith('.json'):\n",
    "            full_path = os.path.join(root, file_name)\n",
    "            json_file_paths.append(full_path)\n",
    "\n",
    "print(f\"총 JSON 파일 수: {len(json_file_paths)}개\")\n",
    "print(\"첫 번째 JSON 파일 경로 (예시):\")\n",
    "if json_file_paths:\n",
    "    print(f\"{json_file_paths[0]}\")\n"
   ],
   "metadata": {
    "colab": {
     "base_uri": "https://localhost:8080/"
    },
    "id": "POH401cJtY8G",
    "outputId": "d18be005-dcb7-460f-9b5f-0e2f224d6e3f",
    "ExecuteTime": {
     "end_time": "2025-10-21T08:54:29.215836Z",
     "start_time": "2025-10-21T08:54:29.184164Z"
    }
   },
   "outputs": [
    {
     "ename": "SyntaxError",
     "evalue": "invalid syntax (934561678.py, line 7)",
     "output_type": "error",
     "traceback": [
      "\u001B[0;36m  Cell \u001B[0;32mIn[1], line 7\u001B[0;36m\u001B[0m\n\u001B[0;31m    ***()\u001B[0m\n\u001B[0m    ^\u001B[0m\n\u001B[0;31mSyntaxError\u001B[0m\u001B[0;31m:\u001B[0m invalid syntax\n"
     ]
    }
   ],
   "execution_count": 1
  },
  {
   "cell_type": "code",
   "source": [
    "# @title JSON 파일 경로 리스트 저장 (다음 실행 시 시간 절약)\n",
    "import pickle # 파이썬 객체를 파일로 저장하고 불러올 수 있게 하는 모듈\n",
    "\n",
    "path_list_save_path = os.path.join(base_data_dir, 'json_paths.pkl')\n",
    "\n",
    "with open(path_list_save_path, 'wb') as f:\n",
    "    pickle.dump(json_file_paths, f)\n",
    "\n",
    "print(f\"JSON 파일 경로 리스트가  저장되었습니다: {path_list_save_path}\")"
   ],
   "metadata": {
    "colab": {
     "base_uri": "https://localhost:8080/"
    },
    "id": "kXPMvrLSzlDA",
    "outputId": "25f2a3a3-d737-4300-8391-a1aec09b8651"
   },
   "execution_count": 5,
   "outputs": [
    {
     "output_type": "stream",
     "name": "stdout",
     "text": [
      "JSON 파일 경로 리스트가  저장되었습니다: /content/drive/MyDrive/ai05/ai05-level1-project/json_paths.pkl\n"
     ]
    }
   ]
  },
  {
   "cell_type": "code",
   "source": [
    "# @title JSON 파일 경로 리스트 불러오기 (빠른 로딩)\n",
    "import pickle\n",
    "\n",
    "path_list_save_path = os.path.join(base_data_dir, 'json_paths.pkl')\n",
    "\n",
    "with open(path_list_save_path, 'rb') as f:\n",
    "    loaded_json_file_paths = pickle.load(f)\n",
    "\n",
    "print(f\"저장된 파일 경로 리스트를 불러왔습니다. 총 {len(loaded_json_file_paths)}개\")"
   ],
   "metadata": {
    "colab": {
     "base_uri": "https://localhost:8080/"
    },
    "id": "MdqlelPszzYu",
    "outputId": "a7bd3583-1057-443c-e544-0d455955e3c7"
   },
   "execution_count": 6,
   "outputs": [
    {
     "output_type": "stream",
     "name": "stdout",
     "text": [
      "저장된 파일 경로 리스트를 불러왔습니다. 총 4526개\n"
     ]
    }
   ]
  },
  {
   "cell_type": "code",
   "source": [
    "# @title 모든 JSON 파일 파싱 및 데이터프레임 생성\n",
    "\n",
    "import json\n",
    "import pandas as pd\n",
    "import os\n",
    "from pprint import pprint\n",
    "\n",
    "if 'json_file_paths' not in globals() or not json_file_paths:\n",
    "    print(\"json 파일이 정의되지 않았습니다\")\n",
    "else:\n",
    "    parsed_data = []\n",
    "\n",
    "    print(f\"총 {len(json_file_paths)}개의 JSON 파일을 파싱합니다.\")\n",
    "\n",
    "    for file_path in json_file_paths:\n",
    "        try:\n",
    "            with open(file_path, 'r', encoding='utf-8') as f:\n",
    "                data = json.load(f)\n",
    "\n",
    "            image_info = data['images'][0]\n",
    "            file_name = image_info['file_name']\n",
    "            image_width = image_info['width']\n",
    "            image_height = image_info['height']\n",
    "\n",
    "            annotations = data.get('annotations', [])\n",
    "\n",
    "            for ann in annotations:\n",
    "                bbox = ann['bbox']\n",
    "                category_id = ann['category_id']\n",
    "\n",
    "                parsed_data.append({\n",
    "                    'image_file_name': file_name,\n",
    "                    'category_id': category_id,\n",
    "                    'bbox_x': bbox[0],\n",
    "                    'bbox_y': bbox[1],\n",
    "                    'bbox_w': bbox[2],\n",
    "                    'bbox_h': bbox[3],\n",
    "                    'image_width': image_width,\n",
    "                    'image_height': image_height\n",
    "                })\n",
    "\n",
    "        except Exception as e:\n",
    "            print('예외 발생')\n",
    "            pass\n",
    "\n",
    "    df = pd.DataFrame(parsed_data)\n",
    "\n",
    "    print(\"\\n 데이터 파싱 완료 및 DataFrame 정보\")\n",
    "    print(f\"총 {len(df)}개의 알약 객체(Row)를 추출했습니다.\")\n",
    "    df.info()\n",
    "    print(\"\\n 상위 5개 데이터 미리보기:\")\n",
    "    print(df.head())"
   ],
   "metadata": {
    "colab": {
     "base_uri": "https://localhost:8080/",
     "height": 293
    },
    "id": "yY0i0JMt03O2",
    "outputId": "4d053252-5422-4cf6-8f22-14d834df206c"
   },
   "execution_count": 7,
   "outputs": [
    {
     "output_type": "stream",
     "name": "stdout",
     "text": [
      "총 4526개의 JSON 파일을 파싱합니다.\n"
     ]
    },
    {
     "output_type": "error",
     "ename": "KeyboardInterrupt",
     "evalue": "",
     "traceback": [
      "\u001B[0;31m---------------------------------------------------------------------------\u001B[0m",
      "\u001B[0;31mKeyboardInterrupt\u001B[0m                         Traceback (most recent call last)",
      "\u001B[0;32m/tmp/ipython-input-2114078183.py\u001B[0m in \u001B[0;36m<cell line: 0>\u001B[0;34m()\u001B[0m\n\u001B[1;32m     16\u001B[0m         \u001B[0;32mtry\u001B[0m\u001B[0;34m:\u001B[0m\u001B[0;34m\u001B[0m\u001B[0;34m\u001B[0m\u001B[0m\n\u001B[1;32m     17\u001B[0m             \u001B[0;32mwith\u001B[0m \u001B[0mopen\u001B[0m\u001B[0;34m(\u001B[0m\u001B[0mfile_path\u001B[0m\u001B[0;34m,\u001B[0m \u001B[0;34m'r'\u001B[0m\u001B[0;34m,\u001B[0m \u001B[0mencoding\u001B[0m\u001B[0;34m=\u001B[0m\u001B[0;34m'utf-8'\u001B[0m\u001B[0;34m)\u001B[0m \u001B[0;32mas\u001B[0m \u001B[0mf\u001B[0m\u001B[0;34m:\u001B[0m\u001B[0;34m\u001B[0m\u001B[0;34m\u001B[0m\u001B[0m\n\u001B[0;32m---> 18\u001B[0;31m                 \u001B[0mdata\u001B[0m \u001B[0;34m=\u001B[0m \u001B[0mjson\u001B[0m\u001B[0;34m.\u001B[0m\u001B[0mload\u001B[0m\u001B[0;34m(\u001B[0m\u001B[0mf\u001B[0m\u001B[0;34m)\u001B[0m\u001B[0;34m\u001B[0m\u001B[0;34m\u001B[0m\u001B[0m\n\u001B[0m\u001B[1;32m     19\u001B[0m \u001B[0;34m\u001B[0m\u001B[0m\n\u001B[1;32m     20\u001B[0m             \u001B[0mimage_info\u001B[0m \u001B[0;34m=\u001B[0m \u001B[0mdata\u001B[0m\u001B[0;34m[\u001B[0m\u001B[0;34m'images'\u001B[0m\u001B[0;34m]\u001B[0m\u001B[0;34m[\u001B[0m\u001B[0;36m0\u001B[0m\u001B[0;34m]\u001B[0m\u001B[0;34m\u001B[0m\u001B[0;34m\u001B[0m\u001B[0m\n",
      "\u001B[0;32m/usr/lib/python3.12/json/__init__.py\u001B[0m in \u001B[0;36mload\u001B[0;34m(fp, cls, object_hook, parse_float, parse_int, parse_constant, object_pairs_hook, **kw)\u001B[0m\n\u001B[1;32m    291\u001B[0m     \u001B[0mkwarg\u001B[0m\u001B[0;34m;\u001B[0m \u001B[0motherwise\u001B[0m\u001B[0;31m \u001B[0m\u001B[0;31m`\u001B[0m\u001B[0;31m`\u001B[0m\u001B[0mJSONDecoder\u001B[0m\u001B[0;31m`\u001B[0m\u001B[0;31m`\u001B[0m \u001B[0;32mis\u001B[0m \u001B[0mused\u001B[0m\u001B[0;34m.\u001B[0m\u001B[0;34m\u001B[0m\u001B[0;34m\u001B[0m\u001B[0m\n\u001B[1;32m    292\u001B[0m     \"\"\"\n\u001B[0;32m--> 293\u001B[0;31m     return loads(fp.read(),\n\u001B[0m\u001B[1;32m    294\u001B[0m         \u001B[0mcls\u001B[0m\u001B[0;34m=\u001B[0m\u001B[0mcls\u001B[0m\u001B[0;34m,\u001B[0m \u001B[0mobject_hook\u001B[0m\u001B[0;34m=\u001B[0m\u001B[0mobject_hook\u001B[0m\u001B[0;34m,\u001B[0m\u001B[0;34m\u001B[0m\u001B[0;34m\u001B[0m\u001B[0m\n\u001B[1;32m    295\u001B[0m         \u001B[0mparse_float\u001B[0m\u001B[0;34m=\u001B[0m\u001B[0mparse_float\u001B[0m\u001B[0;34m,\u001B[0m \u001B[0mparse_int\u001B[0m\u001B[0;34m=\u001B[0m\u001B[0mparse_int\u001B[0m\u001B[0;34m,\u001B[0m\u001B[0;34m\u001B[0m\u001B[0;34m\u001B[0m\u001B[0m\n",
      "\u001B[0;32m/usr/lib/python3.12/codecs.py\u001B[0m in \u001B[0;36mdecode\u001B[0;34m(self, input, final)\u001B[0m\n",
      "\u001B[0;31mKeyboardInterrupt\u001B[0m: "
     ]
    }
   ]
  },
  {
   "metadata": {},
   "cell_type": "markdown",
   "source": "PC 환경"
  },
  {
   "metadata": {
    "ExecuteTime": {
     "end_time": "2025-10-21T09:11:00.252809Z",
     "start_time": "2025-10-21T09:10:59.997408Z"
    }
   },
   "cell_type": "code",
   "source": [
    "# @title 로컬 경로 설정 및 JSON 파일 경로 수집\n",
    "\n",
    "import os\n",
    "import time\n",
    "\n",
    "# Mac 로컬 환경의 데이터 기본 경로 설정\n",
    "base_data_dir = '/Users/bellboi/Documents/ai_data/ai05-level1-project'\n",
    "train_annotations_dir = os.path.join(base_data_dir, 'train_annotations') # train_annotations 폴더 경로\n",
    "\n",
    "json_file_paths = [] # 모든 JSON 파일의 경로를 저장할 리스트\n",
    "\n",
    "print(f\"로컬 데이터 경로 설정 완료: {base_data_dir}\")\n",
    "\n",
    "start_time = time.time()\n",
    "\n",
    "if os.path.exists(train_annotations_dir):\n",
    "    for root, dirs, files in os.walk(train_annotations_dir):\n",
    "        for file_name in files:\n",
    "            if file_name.endswith('.json'):\n",
    "                full_path = os.path.join(root, file_name)\n",
    "                json_file_paths.append(full_path)\n",
    "\n",
    "    end_time = time.time()\n",
    "\n",
    "    print(f\"'train_annotations'에서 발견된 총 JSON 파일 수: {len(json_file_paths)}개\")\n",
    "    print(f\"경로 수집 완료 시간: {end_time - start_time:.2f}초\")\n",
    "    print(f\"첫 번째 JSON 파일 경로 (예시): {json_file_paths[0]}\")\n",
    "\n",
    "else:\n",
    "    print(f\"로컬 경로를 찾을 수 없습니다. {train_annotations_dir}\")"
   ],
   "outputs": [
    {
     "name": "stdout",
     "output_type": "stream",
     "text": [
      "로컬 데이터 경로 설정 완료: /Users/bellboi/Documents/ai_data/ai05-level1-project\n",
      "'train_annotations'에서 발견된 총 JSON 파일 수: 4526개\n",
      "경로 수집 완료 시간: 0.25초\n",
      "첫 번째 JSON 파일 경로 (예시): /Users/bellboi/Documents/ai_data/ai05-level1-project/train_annotations/K-003483-025367-027777-035206_json/K-027777/K-003483-025367-027777-035206_0_2_0_2_75_000_200.json\n"
     ]
    }
   ],
   "execution_count": 2
  },
  {
   "metadata": {
    "ExecuteTime": {
     "end_time": "2025-10-21T09:21:02.767888Z",
     "start_time": "2025-10-21T09:20:30.423062Z"
    }
   },
   "cell_type": "code",
   "source": [
    "# @title JSON 파일 파싱 및 오류 카운트\n",
    "import json\n",
    "import pandas as pd\n",
    "\n",
    "total_files = len(json_file_paths)\n",
    "\n",
    "parsed_data = []\n",
    "error_files = []\n",
    "success_count = 0\n",
    "error_count = 0\n",
    "\n",
    "print(f\" 총 {total_files}개의 JSON 파일을 파싱합니다.\")\n",
    "\n",
    "for file_path in json_file_paths:\n",
    "    try:\n",
    "        with open(file_path, 'r', encoding='utf-8') as f:\n",
    "            data = json.load(f)\n",
    "\n",
    "        image_info = data['images'][0]\n",
    "        file_name = image_info['file_name']\n",
    "        image_width = image_info['width']\n",
    "        image_height = image_info['height']\n",
    "\n",
    "        annotations = data.get('annotations', [])\n",
    "\n",
    "        for ann in annotations:\n",
    "            bbox = ann['bbox']\n",
    "            category_id = ann['category_id']\n",
    "\n",
    "            parsed_data.append({\n",
    "                'image_file_name': file_name,\n",
    "                'category_id': category_id,\n",
    "                'bbox_x': bbox[0],\n",
    "                'bbox_y': bbox[1],\n",
    "                'bbox_w': bbox[2],\n",
    "                'bbox_h': bbox[3],\n",
    "                'image_width': image_width,\n",
    "                'image_height': image_height\n",
    "            })\n",
    "\n",
    "        success_count += 1\n",
    "\n",
    "    except Exception as e:\n",
    "        error_count += 1\n",
    "        error_files.append(file_path)\n",
    "        # print(f\"파일 파싱 중 오류 발생 ({file_path}): {e}\")\n",
    "        pass\n",
    "\n",
    "df = pd.DataFrame(parsed_data)\n",
    "\n",
    "print(\"\\n 데이터 파싱 완료 및 DataFrame 정보 \")\n",
    "print(f\"총 {len(df)}개의 알약 객체(Row)를 추출했습니다. (데이터 로우 수)\")\n",
    "\n",
    "print(f\" 총 시도한 파일 수: {total_files}개\")\n",
    "print(f\" 성공적으로 파싱된 파일 수: {success_count}개\")\n",
    "print(f\" **파싱에 실패한 파일 수:** **{error_count}개**\")\n",
    "print(f\"데이터 손실률: {error_count / total_files * 100:.2f}%\")"
   ],
   "outputs": [
    {
     "name": "stdout",
     "output_type": "stream",
     "text": [
      " 총 4526개의 JSON 파일을 파싱합니다. ⏳\n",
      "\n",
      " 데이터 파싱 완료 및 DataFrame 정보 \n",
      "총 4246개의 알약 객체(Row)를 추출했습니다. (데이터 로우 수)\n",
      " 총 시도한 파일 수: 4526개\n",
      " 성공적으로 파싱된 파일 수: 4246개\n",
      " **파싱에 실패한 파일 수:** **280개**\n",
      "데이터 손실률: 6.19%\n"
     ]
    }
   ],
   "execution_count": 4
  }
 ]
}
