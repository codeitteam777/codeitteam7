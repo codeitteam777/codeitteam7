{
  "nbformat": 4,
  "nbformat_minor": 0,
  "metadata": {
    "colab": {
      "provenance": [],
      "machine_shape": "hm",
      "gpuType": "A100"
    },
    "kernelspec": {
      "name": "python3",
      "display_name": "Python 3"
    },
    "language_info": {
      "name": "python"
    },
    "accelerator": "GPU"
  },
  "cells": [
    {
      "cell_type": "code",
      "source": [
        "# @title 구글드라이브 연동\n",
        "\n",
        "from google.colab import drive\n",
        "\n",
        "# 드라이브 마운트\n",
        "drive.mount('/content/drive')"
      ],
      "metadata": {
        "colab": {
          "base_uri": "https://localhost:8080/"
        },
        "id": "POH401cJtY8G",
        "outputId": "d18be005-dcb7-460f-9b5f-0e2f224d6e3f"
      },
      "execution_count": 2,
      "outputs": [
        {
          "output_type": "stream",
          "name": "stdout",
          "text": [
            "Mounted at /content/drive\n"
          ]
        }
      ]
    },
    {
      "cell_type": "code",
      "execution_count": 3,
      "metadata": {
        "colab": {
          "base_uri": "https://localhost:8080/"
        },
        "id": "8WI_x3lAeXIW",
        "outputId": "51d1a970-30ac-41a1-b43b-53541d574a99"
      },
      "outputs": [
        {
          "output_type": "stream",
          "name": "stdout",
          "text": [
            "총 JSON 파일 수: 4526개\n",
            "첫 번째 JSON 파일 경로 (예시):\n",
            "   - /content/drive/MyDrive/ai05/ai05-level1-project/train_annotations/K-001900-010224-016551-031705_json/K-001900/K-001900-010224-016551-031705_0_2_0_2_70_000_200.json\n"
          ]
        }
      ],
      "source": [
        "# @title JSON 라벨 파일 구조 확인\n",
        "\n",
        "import json\n",
        "import os\n",
        "from pprint import pprint\n",
        "\n",
        "base_data_dir = '/content/drive/MyDrive/ai05/ai05-level1-project'\n",
        "train_annotations_dir = os.path.join(base_data_dir, 'train_annotations')\n",
        "\n",
        "json_file_paths = []\n",
        "\n",
        "for root, dirs, files in os.walk(train_annotations_dir):\n",
        "    for file_name in files:\n",
        "        if file_name.endswith('.json'):\n",
        "            full_path = os.path.join(root, file_name)\n",
        "            json_file_paths.append(full_path)\n",
        "\n",
        "print(f\"총 JSON 파일 수: {len(json_file_paths)}개\")\n",
        "print(\"첫 번째 JSON 파일 경로 (예시):\")\n",
        "if json_file_paths:\n",
        "    print(f\"{json_file_paths[0]}\")\n",
        "\n"
      ]
    },
    {
      "cell_type": "code",
      "source": [
        "# @title JSON 파일 경로 리스트 저장 (다음 실행 시 시간 절약)\n",
        "import pickle # 파이썬 객체를 파일로 저장하고 불러올 수 있게 하는 모듈\n",
        "\n",
        "path_list_save_path = os.path.join(base_data_dir, 'json_paths.pkl')\n",
        "\n",
        "with open(path_list_save_path, 'wb') as f:\n",
        "    pickle.dump(json_file_paths, f)\n",
        "\n",
        "print(f\"JSON 파일 경로 리스트가  저장되었습니다: {path_list_save_path}\")"
      ],
      "metadata": {
        "colab": {
          "base_uri": "https://localhost:8080/"
        },
        "id": "kXPMvrLSzlDA",
        "outputId": "25f2a3a3-d737-4300-8391-a1aec09b8651"
      },
      "execution_count": 5,
      "outputs": [
        {
          "output_type": "stream",
          "name": "stdout",
          "text": [
            "JSON 파일 경로 리스트가  저장되었습니다: /content/drive/MyDrive/ai05/ai05-level1-project/json_paths.pkl\n"
          ]
        }
      ]
    },
    {
      "cell_type": "code",
      "source": [
        "# @title JSON 파일 경로 리스트 불러오기 (빠른 로딩)\n",
        "import pickle\n",
        "\n",
        "path_list_save_path = os.path.join(base_data_dir, 'json_paths.pkl')\n",
        "\n",
        "with open(path_list_save_path, 'rb') as f:\n",
        "    loaded_json_file_paths = pickle.load(f)\n",
        "\n",
        "print(f\"저장된 파일 경로 리스트를 불러왔습니다. 총 {len(loaded_json_file_paths)}개\")"
      ],
      "metadata": {
        "colab": {
          "base_uri": "https://localhost:8080/"
        },
        "id": "MdqlelPszzYu",
        "outputId": "a7bd3583-1057-443c-e544-0d455955e3c7"
      },
      "execution_count": 6,
      "outputs": [
        {
          "output_type": "stream",
          "name": "stdout",
          "text": [
            "저장된 파일 경로 리스트를 불러왔습니다. 총 4526개\n"
          ]
        }
      ]
    },
    {
      "cell_type": "code",
      "source": [
        "# @title 모든 JSON 파일 파싱 및 데이터프레임 생성\n",
        "\n",
        "import json\n",
        "import pandas as pd\n",
        "import os\n",
        "from pprint import pprint\n",
        "\n",
        "if 'json_file_paths' not in globals() or not json_file_paths:\n",
        "    print(\"json 파일이 정의되지 않았습니다\")\n",
        "else:\n",
        "    parsed_data = []\n",
        "\n",
        "    print(f\"총 {len(json_file_paths)}개의 JSON 파일을 파싱합니다.\")\n",
        "\n",
        "    for file_path in json_file_paths:\n",
        "        try:\n",
        "            with open(file_path, 'r', encoding='utf-8') as f:\n",
        "                data = json.load(f)\n",
        "\n",
        "            image_info = data['images'][0]\n",
        "            file_name = image_info['file_name']\n",
        "            image_width = image_info['width']\n",
        "            image_height = image_info['height']\n",
        "\n",
        "            annotations = data.get('annotations', [])\n",
        "\n",
        "            for ann in annotations:\n",
        "                bbox = ann['bbox']\n",
        "                category_id = ann['category_id']\n",
        "\n",
        "                parsed_data.append({\n",
        "                    'image_file_name': file_name,\n",
        "                    'category_id': category_id,\n",
        "                    'bbox_x': bbox[0],\n",
        "                    'bbox_y': bbox[1],\n",
        "                    'bbox_w': bbox[2],\n",
        "                    'bbox_h': bbox[3],\n",
        "                    'image_width': image_width,\n",
        "                    'image_height': image_height\n",
        "                })\n",
        "\n",
        "        except Exception as e:\n",
        "            print('예외 발생')\n",
        "            pass\n",
        "\n",
        "    df = pd.DataFrame(parsed_data)\n",
        "\n",
        "    print(\"\\n 데이터 파싱 완료 및 DataFrame 정보\")\n",
        "    print(f\"총 {len(df)}개의 알약 객체(Row)를 추출했습니다.\")\n",
        "    df.info()\n",
        "    print(\"\\n 상위 5개 데이터 미리보기:\")\n",
        "    print(df.head())"
      ],
      "metadata": {
        "colab": {
          "base_uri": "https://localhost:8080/",
          "height": 293
        },
        "id": "yY0i0JMt03O2",
        "outputId": "4d053252-5422-4cf6-8f22-14d834df206c"
      },
      "execution_count": 7,
      "outputs": [
        {
          "output_type": "stream",
          "name": "stdout",
          "text": [
            "총 4526개의 JSON 파일을 파싱합니다.\n"
          ]
        },
        {
          "output_type": "error",
          "ename": "KeyboardInterrupt",
          "evalue": "",
          "traceback": [
            "\u001b[0;31m---------------------------------------------------------------------------\u001b[0m",
            "\u001b[0;31mKeyboardInterrupt\u001b[0m                         Traceback (most recent call last)",
            "\u001b[0;32m/tmp/ipython-input-2114078183.py\u001b[0m in \u001b[0;36m<cell line: 0>\u001b[0;34m()\u001b[0m\n\u001b[1;32m     16\u001b[0m         \u001b[0;32mtry\u001b[0m\u001b[0;34m:\u001b[0m\u001b[0;34m\u001b[0m\u001b[0;34m\u001b[0m\u001b[0m\n\u001b[1;32m     17\u001b[0m             \u001b[0;32mwith\u001b[0m \u001b[0mopen\u001b[0m\u001b[0;34m(\u001b[0m\u001b[0mfile_path\u001b[0m\u001b[0;34m,\u001b[0m \u001b[0;34m'r'\u001b[0m\u001b[0;34m,\u001b[0m \u001b[0mencoding\u001b[0m\u001b[0;34m=\u001b[0m\u001b[0;34m'utf-8'\u001b[0m\u001b[0;34m)\u001b[0m \u001b[0;32mas\u001b[0m \u001b[0mf\u001b[0m\u001b[0;34m:\u001b[0m\u001b[0;34m\u001b[0m\u001b[0;34m\u001b[0m\u001b[0m\n\u001b[0;32m---> 18\u001b[0;31m                 \u001b[0mdata\u001b[0m \u001b[0;34m=\u001b[0m \u001b[0mjson\u001b[0m\u001b[0;34m.\u001b[0m\u001b[0mload\u001b[0m\u001b[0;34m(\u001b[0m\u001b[0mf\u001b[0m\u001b[0;34m)\u001b[0m\u001b[0;34m\u001b[0m\u001b[0;34m\u001b[0m\u001b[0m\n\u001b[0m\u001b[1;32m     19\u001b[0m \u001b[0;34m\u001b[0m\u001b[0m\n\u001b[1;32m     20\u001b[0m             \u001b[0mimage_info\u001b[0m \u001b[0;34m=\u001b[0m \u001b[0mdata\u001b[0m\u001b[0;34m[\u001b[0m\u001b[0;34m'images'\u001b[0m\u001b[0;34m]\u001b[0m\u001b[0;34m[\u001b[0m\u001b[0;36m0\u001b[0m\u001b[0;34m]\u001b[0m\u001b[0;34m\u001b[0m\u001b[0;34m\u001b[0m\u001b[0m\n",
            "\u001b[0;32m/usr/lib/python3.12/json/__init__.py\u001b[0m in \u001b[0;36mload\u001b[0;34m(fp, cls, object_hook, parse_float, parse_int, parse_constant, object_pairs_hook, **kw)\u001b[0m\n\u001b[1;32m    291\u001b[0m     \u001b[0mkwarg\u001b[0m\u001b[0;34m;\u001b[0m \u001b[0motherwise\u001b[0m\u001b[0;31m \u001b[0m\u001b[0;31m`\u001b[0m\u001b[0;31m`\u001b[0m\u001b[0mJSONDecoder\u001b[0m\u001b[0;31m`\u001b[0m\u001b[0;31m`\u001b[0m \u001b[0;32mis\u001b[0m \u001b[0mused\u001b[0m\u001b[0;34m.\u001b[0m\u001b[0;34m\u001b[0m\u001b[0;34m\u001b[0m\u001b[0m\n\u001b[1;32m    292\u001b[0m     \"\"\"\n\u001b[0;32m--> 293\u001b[0;31m     return loads(fp.read(),\n\u001b[0m\u001b[1;32m    294\u001b[0m         \u001b[0mcls\u001b[0m\u001b[0;34m=\u001b[0m\u001b[0mcls\u001b[0m\u001b[0;34m,\u001b[0m \u001b[0mobject_hook\u001b[0m\u001b[0;34m=\u001b[0m\u001b[0mobject_hook\u001b[0m\u001b[0;34m,\u001b[0m\u001b[0;34m\u001b[0m\u001b[0;34m\u001b[0m\u001b[0m\n\u001b[1;32m    295\u001b[0m         \u001b[0mparse_float\u001b[0m\u001b[0;34m=\u001b[0m\u001b[0mparse_float\u001b[0m\u001b[0;34m,\u001b[0m \u001b[0mparse_int\u001b[0m\u001b[0;34m=\u001b[0m\u001b[0mparse_int\u001b[0m\u001b[0;34m,\u001b[0m\u001b[0;34m\u001b[0m\u001b[0;34m\u001b[0m\u001b[0m\n",
            "\u001b[0;32m/usr/lib/python3.12/codecs.py\u001b[0m in \u001b[0;36mdecode\u001b[0;34m(self, input, final)\u001b[0m\n",
            "\u001b[0;31mKeyboardInterrupt\u001b[0m: "
          ]
        }
      ]
    }
  ]
}